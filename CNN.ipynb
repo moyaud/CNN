{
 "cells": [
  {
   "cell_type": "code",
   "execution_count": 1,
   "id": "17f0ca0b",
   "metadata": {},
   "outputs": [],
   "source": [
    "#Image Classification Project:Create an image classification model that can \n",
    "#recognize and classify objects in images. Use a dataset like CIFAR-10 or create your dataset."
   ]
  },
  {
   "cell_type": "code",
   "execution_count": 2,
   "id": "1ca44c95",
   "metadata": {},
   "outputs": [],
   "source": [
    "import tensorflow as tf\n",
    "from tensorflow.keras.datasets import cifar10\n",
    "from tensorflow.keras.models import Sequential\n",
    "from tensorflow.keras.layers import Conv2D, MaxPooling2D, Flatten, Dense\n",
    "from tensorflow.keras.utils import to_categorical"
   ]
  },
  {
   "cell_type": "code",
   "execution_count": 3,
   "id": "3317bf69",
   "metadata": {},
   "outputs": [],
   "source": [
    "# Load CIFAR-10 dataset\n",
    "(X_train, y_train), (X_test, y_test) = cifar10.load_data()"
   ]
  },
  {
   "cell_type": "code",
   "execution_count": 4,
   "id": "b2ff4d83",
   "metadata": {},
   "outputs": [],
   "source": [
    "# Preprocess data\n",
    "X_train = X_train / 255.0\n",
    "X_test = X_test / 255.0\n",
    "y_train = to_categorical(y_train, 10)\n",
    "y_test = to_categorical(y_test, 10)"
   ]
  },
  {
   "cell_type": "code",
   "execution_count": 5,
   "id": "4f6582b8",
   "metadata": {},
   "outputs": [],
   "source": [
    "# Build a CNN model\n",
    "model = Sequential()\n",
    "model.add(Conv2D(32, (3, 3), activation='relu', input_shape=(32, 32, 3)))\n",
    "model.add(MaxPooling2D((2, 2)))\n",
    "model.add(Conv2D(64, (3, 3), activation='relu'))\n",
    "model.add(MaxPooling2D((2, 2)))\n",
    "model.add(Flatten())\n",
    "model.add(Dense(64, activation='relu'))\n",
    "model.add(Dense(10, activation='softmax'))"
   ]
  },
  {
   "cell_type": "code",
   "execution_count": 6,
   "id": "8127b0de",
   "metadata": {},
   "outputs": [
    {
     "name": "stdout",
     "output_type": "stream",
     "text": [
      "Epoch 1/10\n",
      "782/782 [==============================] - 28s 36ms/step - loss: 1.5034 - accuracy: 0.4589 - val_loss: 1.2545 - val_accuracy: 0.5636\n",
      "Epoch 2/10\n",
      "782/782 [==============================] - 29s 37ms/step - loss: 1.1822 - accuracy: 0.5851 - val_loss: 1.1091 - val_accuracy: 0.6188\n",
      "Epoch 3/10\n",
      "782/782 [==============================] - 36s 46ms/step - loss: 1.0452 - accuracy: 0.6363 - val_loss: 1.0179 - val_accuracy: 0.6506\n",
      "Epoch 4/10\n",
      "782/782 [==============================] - 33s 43ms/step - loss: 0.9593 - accuracy: 0.6673 - val_loss: 1.0070 - val_accuracy: 0.6513\n",
      "Epoch 5/10\n",
      "782/782 [==============================] - 34s 44ms/step - loss: 0.8950 - accuracy: 0.6898 - val_loss: 0.9249 - val_accuracy: 0.6811\n",
      "Epoch 6/10\n",
      "782/782 [==============================] - 32s 40ms/step - loss: 0.8358 - accuracy: 0.7112 - val_loss: 0.9226 - val_accuracy: 0.6884\n",
      "Epoch 7/10\n",
      "782/782 [==============================] - 31s 40ms/step - loss: 0.7874 - accuracy: 0.7292 - val_loss: 0.8938 - val_accuracy: 0.6954\n",
      "Epoch 8/10\n",
      "782/782 [==============================] - 32s 41ms/step - loss: 0.7497 - accuracy: 0.7410 - val_loss: 0.9110 - val_accuracy: 0.6920\n",
      "Epoch 9/10\n",
      "782/782 [==============================] - 34s 43ms/step - loss: 0.7073 - accuracy: 0.7557 - val_loss: 0.8904 - val_accuracy: 0.7051\n",
      "Epoch 10/10\n",
      "782/782 [==============================] - 33s 42ms/step - loss: 0.6788 - accuracy: 0.7663 - val_loss: 0.8904 - val_accuracy: 0.7073\n"
     ]
    },
    {
     "data": {
      "text/plain": [
       "<tensorflow.python.keras.callbacks.History at 0x1bcb9a62a88>"
      ]
     },
     "execution_count": 6,
     "metadata": {},
     "output_type": "execute_result"
    }
   ],
   "source": [
    "# Compile and train the model\n",
    "model.compile(optimizer='adam', loss='categorical_crossentropy', metrics=['accuracy'])\n",
    "model.fit(X_train, y_train, epochs=10, batch_size=64, validation_data=(X_test, y_test))"
   ]
  },
  {
   "cell_type": "code",
   "execution_count": null,
   "id": "fac52703",
   "metadata": {},
   "outputs": [],
   "source": []
  }
 ],
 "metadata": {
  "kernelspec": {
   "display_name": "Python 3 (ipykernel)",
   "language": "python",
   "name": "python3"
  },
  "language_info": {
   "codemirror_mode": {
    "name": "ipython",
    "version": 3
   },
   "file_extension": ".py",
   "mimetype": "text/x-python",
   "name": "python",
   "nbconvert_exporter": "python",
   "pygments_lexer": "ipython3",
   "version": "3.7.13"
  }
 },
 "nbformat": 4,
 "nbformat_minor": 5
}
